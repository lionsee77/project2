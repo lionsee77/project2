{
 "cells": [
  {
   "cell_type": "code",
   "execution_count": 144,
   "id": "46a121ba",
   "metadata": {},
   "outputs": [],
   "source": [
    "#general\n",
    "import pandas as pd\n",
    "import re\n",
    "import string\n",
    "import contractions\n",
    "import nltk\n",
    "from nltk.corpus import stopwords\n",
    "from nltk.stem import PorterStemmer\n",
    "from nltk.tokenize import word_tokenize\n",
    "from nltk.stem import PorterStemmer\n",
    "from nltk.tokenize import word_tokenize\n",
    "from functools import reduce\n",
    "\n",
    "#functions\n",
    "from sklearn.model_selection import train_test_split\n",
    "from sklearn.feature_extraction.text import CountVectorizer\n",
    "from sklearn.feature_extraction.text import TfidfTransformer\n",
    "from sklearn.feature_extraction.text import TfidfVectorizer\n",
    "from sklearn.pipeline import Pipeline\n",
    "from sklearn.metrics import accuracy_score, precision_score, recall_score\n",
    "from sklearn.metrics import confusion_matrix, classification_report\n",
    "\n",
    "#models\n",
    "from sklearn.svm import LinearSVC\n",
    "from sklearn.naive_bayes import MultinomialNB\n",
    "from sklearn.linear_model import LogisticRegression\n",
    "from sklearn.ensemble import RandomForestClassifier\n"
   ]
  },
  {
   "cell_type": "code",
   "execution_count": 115,
   "id": "061f874a",
   "metadata": {},
   "outputs": [
    {
     "data": {
      "text/plain": [
       " 1    3685\n",
       "-1    2106\n",
       "Name: Sentiment, dtype: int64"
      ]
     },
     "execution_count": 115,
     "metadata": {},
     "output_type": "execute_result"
    }
   ],
   "source": [
    "df = pd.read_csv(\"stock_data.csv\")\n",
    "df['Sentiment'].value_counts()\n",
    "#3685 labelled 1, 2106 labelled 0 "
   ]
  },
  {
   "cell_type": "code",
   "execution_count": 146,
   "id": "60af36fc",
   "metadata": {},
   "outputs": [
    {
     "name": "stderr",
     "output_type": "stream",
     "text": [
      "[nltk_data] Downloading package stopwords to\n",
      "[nltk_data]     /Users/lionsee/nltk_data...\n",
      "[nltk_data]   Package stopwords is already up-to-date!\n",
      "[nltk_data] Downloading package punkt to /Users/lionsee/nltk_data...\n",
      "[nltk_data]   Package punkt is already up-to-date!\n"
     ]
    }
   ],
   "source": [
    "#stopwords \n",
    "nltk.download('stopwords')\n",
    "stop_words = set(stopwords.words('english'))\n",
    "\n",
    "#stemming\n",
    "nltk.download('punkt')\n",
    "ps = PorterStemmer()\n",
    "\n",
    "#Vectorisation\n",
    "count_vector = CountVectorizer()\n",
    "tfidf_transformer = TfidfTransformer()\n",
    "vectorizer = TfidfVectorizer()\n"
   ]
  },
  {
   "cell_type": "code",
   "execution_count": 117,
   "id": "baa68958",
   "metadata": {},
   "outputs": [],
   "source": [
    "#pre-processing functions\n",
    "def rmv_punc(txt):\n",
    "    translator = str.maketrans('','', string.punctuation)\n",
    "    return txt.translate(translator)\n",
    "\n",
    "#function to remove stopwords\n",
    "def rmv_stopwords(txt):\n",
    "    return \" \".join([word for word in str(txt).split() if word not in stop_words])\n",
    "\n",
    "#function to reduce words to their stem word\n",
    "def stem_fun(txt):\n",
    "    sentence = word_tokenize(txt)\n",
    "    stemmed_sentence = reduce(lambda x,y: x + \" \" + ps.stem(y), sentence, \"\")\n",
    "    return stemmed_sentence"
   ]
  },
  {
   "cell_type": "code",
   "execution_count": 118,
   "id": "8f5c8e46",
   "metadata": {},
   "outputs": [],
   "source": [
    "#change the sentiments to 0 and 1s\n",
    "df['Sentiment'] = df['Sentiment'].replace(-1, 0)\n",
    "\n",
    "#make everything lower-case\n",
    "df['Text'] = df['Text'].apply(lambda x: x.lower())\n",
    "\n",
    "#remove URLS\n",
    "df['Text'] = df['Text'].apply(lambda x: re.sub(r'https?://\\S+', '', x))\n",
    "\n",
    "#expand short-form words\n",
    "df['Text'] = df['Text'].apply(lambda x: contractions.fix(x))\n",
    "\n",
    "#remove punctuations\n",
    "df['Text'] = df['Text'].apply(rmv_punc)\n",
    "\n",
    "#remove stop-words\n",
    "df['Text'] = df['Text'].apply(lambda x: rmv_stopwords(x))\n",
    "\n",
    "#stemming the sentence \n",
    "df['Text'] = df['Text'].apply(lambda x: stem_fun(x))\n",
    "\n",
    "#remove extra white space\n",
    "df['Text'] = df['Text'].apply(lambda x: re.sub(' +', ' ', x))\n",
    "\n"
   ]
  },
  {
   "cell_type": "code",
   "execution_count": 123,
   "id": "c6f2928f",
   "metadata": {},
   "outputs": [],
   "source": [
    "#obtain train test split\n",
    "x = df['Text']\n",
    "y = df['Sentiment']\n",
    "\n",
    "X_train, X_test, Y_train, Y_test = train_test_split(x, y, test_size = 0.2, random_state = 42)"
   ]
  },
  {
   "cell_type": "code",
   "execution_count": 164,
   "id": "5bfc3ec8",
   "metadata": {},
   "outputs": [
    {
     "name": "stderr",
     "output_type": "stream",
     "text": [
      "/Users/lionsee/anaconda3/lib/python3.11/site-packages/sklearn/svm/_classes.py:32: FutureWarning: The default value of `dual` will change from `True` to `'auto'` in 1.5. Set the value of `dual` explicitly to suppress the warning.\n",
      "  warnings.warn(\n"
     ]
    },
    {
     "name": "stdout",
     "output_type": "stream",
     "text": [
      "Pipeline(steps=[('tfidf', TfidfVectorizer()), ('classifier', LinearSVC())])\n",
      "Accuracy of <class 'sklearn.svm._classes.LinearSVC'> is 0.8015530629853321\n",
      "Precision of <class 'sklearn.svm._classes.LinearSVC'> is 0.8346666666666667\n",
      "Recall score of <class 'sklearn.svm._classes.LinearSVC'> is 0.855191256830601\n",
      "-------------------------------------\n",
      "Pipeline(steps=[('tfidf', TfidfVectorizer()), ('classifier', MultinomialNB())])\n",
      "Accuracy of <class 'sklearn.naive_bayes.MultinomialNB'> is 0.730802415875755\n",
      "Precision of <class 'sklearn.naive_bayes.MultinomialNB'> is 0.7108433734939759\n",
      "Recall score of <class 'sklearn.naive_bayes.MultinomialNB'> is 0.9672131147540983\n",
      "-------------------------------------\n",
      "Pipeline(steps=[('tfidf', TfidfVectorizer()),\n",
      "                ('classifier', LogisticRegression())])\n",
      "Accuracy of <class 'sklearn.linear_model._logistic.LogisticRegression'> is 0.7868852459016393\n",
      "Precision of <class 'sklearn.linear_model._logistic.LogisticRegression'> is 0.7823050058207218\n",
      "Recall score of <class 'sklearn.linear_model._logistic.LogisticRegression'> is 0.9180327868852459\n",
      "-------------------------------------\n",
      "Pipeline(steps=[('tfidf', TfidfVectorizer()),\n",
      "                ('classifier', RandomForestClassifier())])\n",
      "Accuracy of <class 'sklearn.ensemble._forest.RandomForestClassifier'> is 0.7920621225194133\n",
      "Precision of <class 'sklearn.ensemble._forest.RandomForestClassifier'> is 0.8080301129234629\n",
      "Recall score of <class 'sklearn.ensemble._forest.RandomForestClassifier'> is 0.8797814207650273\n",
      "-------------------------------------\n"
     ]
    }
   ],
   "source": [
    "#testing various models\n",
    "models = [LinearSVC,\n",
    "          MultinomialNB,\n",
    "          LogisticRegression,\n",
    "          RandomForestClassifier\n",
    "          ] \n",
    "accuracy = []\n",
    "precision = []\n",
    "recall = []\n",
    "\n",
    "for m in models:\n",
    "    model_ = m()\n",
    "    \n",
    "    pipe = Pipeline([('tfidf', TfidfVectorizer()), ('classifier', model_)])\n",
    "    pipe.fit(X_train, Y_train)\n",
    "    pred = pipe.predict(X_test)\n",
    "    print(pipe)\n",
    "    \n",
    "    acc = accuracy_score(Y_test, pred)\n",
    "    prec = precision_score(Y_test, pred)\n",
    "    rec = recall_score(Y_test, pred)\n",
    "    accuracy.append(acc)\n",
    "    precision.append(prec)\n",
    "    recall.append(rec)\n",
    "    \n",
    "    print(f'Accuracy of {m} is {accuracy[-1]}')\n",
    "    print(f'Precision of {m} is {precision[-1]}')\n",
    "    print(f'Recall score of {m} is {recall[-1]}')\n",
    "    print(\"-------------------------------------\")"
   ]
  },
  {
   "cell_type": "code",
   "execution_count": null,
   "id": "746b3023",
   "metadata": {},
   "outputs": [],
   "source": [
    "#LinearSVC has the best accuracy of 0.802, precision of 0.836 and recall score of 0.855"
   ]
  }
 ],
 "metadata": {
  "kernelspec": {
   "display_name": "Python 3 (ipykernel)",
   "language": "python",
   "name": "python3"
  },
  "language_info": {
   "codemirror_mode": {
    "name": "ipython",
    "version": 3
   },
   "file_extension": ".py",
   "mimetype": "text/x-python",
   "name": "python",
   "nbconvert_exporter": "python",
   "pygments_lexer": "ipython3",
   "version": "3.11.4"
  }
 },
 "nbformat": 4,
 "nbformat_minor": 5
}
